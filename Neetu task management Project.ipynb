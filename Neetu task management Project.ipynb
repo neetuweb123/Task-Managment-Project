{
 "cells": [
  {
   "cell_type": "code",
   "execution_count": 1,
   "id": "02736757-af48-42a8-a22f-cc493f4f5fb4",
   "metadata": {},
   "outputs": [
    {
     "name": "stdout",
     "output_type": "stream",
     "text": [
      "\n",
      "--- Task Management System ---\n",
      "1. Add Task\n",
      "2. Update Task\n",
      "3. View Tasks\n",
      "4. Delete Task\n",
      "5. Sort Tasks\n",
      "6. Filter Tasks\n",
      "7. Exit\n"
     ]
    },
    {
     "name": "stdin",
     "output_type": "stream",
     "text": [
      "Enter your choice:  1\n",
      "Enter task title:  cloth\n",
      "Enter task description:  good\n",
      "Enter task status (Pending/Completed):  pending\n",
      "Enter due date (YYYY-MM-DD):  2025-29-5\n"
     ]
    },
    {
     "name": "stdout",
     "output_type": "stream",
     "text": [
      "An error occurred: [Errno 13] Permission denied: 'tasks.csv'\n",
      "\n",
      "--- Task Management System ---\n",
      "1. Add Task\n",
      "2. Update Task\n",
      "3. View Tasks\n",
      "4. Delete Task\n",
      "5. Sort Tasks\n",
      "6. Filter Tasks\n",
      "7. Exit\n"
     ]
    },
    {
     "name": "stdin",
     "output_type": "stream",
     "text": [
      "Enter your choice:  2\n",
      "Enter the ID of the task to update:  1\n",
      "Enter new title:  oil\n",
      "Enter new description:  masterd\n",
      "Enter new status:  good\n",
      "Enter new due date:  2025-20-7\n"
     ]
    },
    {
     "name": "stdout",
     "output_type": "stream",
     "text": [
      "An error occurred: [Errno 13] Permission denied: 'tasks.csv'\n",
      "\n",
      "--- Task Management System ---\n",
      "1. Add Task\n",
      "2. Update Task\n",
      "3. View Tasks\n",
      "4. Delete Task\n",
      "5. Sort Tasks\n",
      "6. Filter Tasks\n",
      "7. Exit\n"
     ]
    },
    {
     "name": "stdin",
     "output_type": "stream",
     "text": [
      "Enter your choice:  3\n"
     ]
    },
    {
     "name": "stdout",
     "output_type": "stream",
     "text": [
      "{'ID': '1', 'Title': 'cloth', 'Description': 'good quilty', 'Status': 'current', 'Due Date': '20/4/2024'}\n",
      "{'ID': '2', 'Title': 'dal', 'Description': 'puar quilty', 'Status': 'update', 'Due Date': '17/5/2025'}\n",
      "{'ID': '3', 'Title': 'toy', 'Description': ' meny defrent toy', 'Status': '20% dicount', 'Due Date': '8-Jul'}\n",
      "\n",
      "--- Task Management System ---\n",
      "1. Add Task\n",
      "2. Update Task\n",
      "3. View Tasks\n",
      "4. Delete Task\n",
      "5. Sort Tasks\n",
      "6. Filter Tasks\n",
      "7. Exit\n"
     ]
    },
    {
     "name": "stdin",
     "output_type": "stream",
     "text": [
      "Enter your choice:  4\n",
      "Enter the ID of the task to delete:  2\n"
     ]
    },
    {
     "name": "stdout",
     "output_type": "stream",
     "text": [
      "An error occurred: [Errno 13] Permission denied: 'tasks.csv'\n",
      "\n",
      "--- Task Management System ---\n",
      "1. Add Task\n",
      "2. Update Task\n",
      "3. View Tasks\n",
      "4. Delete Task\n",
      "5. Sort Tasks\n",
      "6. Filter Tasks\n",
      "7. Exit\n"
     ]
    },
    {
     "name": "stdin",
     "output_type": "stream",
     "text": [
      "Enter your choice:  5\n"
     ]
    },
    {
     "name": "stdout",
     "output_type": "stream",
     "text": [
      "Sort by: 1. Title 2. Due Date 3. Status\n"
     ]
    },
    {
     "name": "stdin",
     "output_type": "stream",
     "text": [
      "Enter your choice:  1\n"
     ]
    },
    {
     "name": "stdout",
     "output_type": "stream",
     "text": [
      "{'ID': '1', 'Title': 'cloth', 'Description': 'good quilty', 'Status': 'current', 'Due Date': '20/4/2024'}\n",
      "{'ID': '2', 'Title': 'dal', 'Description': 'puar quilty', 'Status': 'update', 'Due Date': '17/5/2025'}\n",
      "{'ID': '3', 'Title': 'toy', 'Description': ' meny defrent toy', 'Status': '20% dicount', 'Due Date': '8-Jul'}\n",
      "\n",
      "--- Task Management System ---\n",
      "1. Add Task\n",
      "2. Update Task\n",
      "3. View Tasks\n",
      "4. Delete Task\n",
      "5. Sort Tasks\n",
      "6. Filter Tasks\n",
      "7. Exit\n"
     ]
    },
    {
     "name": "stdin",
     "output_type": "stream",
     "text": [
      "Enter your choice:  6\n",
      "Enter status to filter by (Pending/Completed):  completed\n"
     ]
    },
    {
     "name": "stdout",
     "output_type": "stream",
     "text": [
      "No tasks found with this status.\n",
      "\n",
      "--- Task Management System ---\n",
      "1. Add Task\n",
      "2. Update Task\n",
      "3. View Tasks\n",
      "4. Delete Task\n",
      "5. Sort Tasks\n",
      "6. Filter Tasks\n",
      "7. Exit\n"
     ]
    },
    {
     "name": "stdin",
     "output_type": "stream",
     "text": [
      "Enter your choice:  7\n"
     ]
    },
    {
     "name": "stdout",
     "output_type": "stream",
     "text": [
      "Goodbye!\n"
     ]
    }
   ],
   "source": [
    "import csv\n",
    "import os\n",
    "\n",
    "CSV_FILE = 'tasks.csv'\n",
    "FIELDNAMES = ['ID', 'Title', 'Description', 'Status', 'Due Date']\n",
    "\n",
    "def load_tasks():\n",
    "    tasks = []\n",
    "    if not os.path.exists(CSV_FILE):\n",
    "        with open(CSV_FILE, mode='w', newline='') as file:\n",
    "            writer = csv.DictWriter(file, fieldnames=FIELDNAMES)\n",
    "            writer.writeheader()\n",
    "    with open(CSV_FILE, mode='r') as file:\n",
    "        reader = csv.DictReader(file)\n",
    "        for row in reader:\n",
    "            tasks.append(row)\n",
    "    return tasks\n",
    "\n",
    "def save_tasks(tasks):\n",
    "    with open(CSV_FILE, mode='w', newline='') as file:\n",
    "        writer = csv.DictWriter(file, fieldnames=FIELDNAMES)\n",
    "        writer.writeheader()\n",
    "        writer.writerows(tasks)\n",
    "\n",
    "def add_task():\n",
    "    tasks = load_tasks()\n",
    "    task_id = str(len(tasks) + 1)\n",
    "    title = input(\"Enter task title: \")\n",
    "    description = input(\"Enter task description: \")\n",
    "    status = input(\"Enter task status (Pending/Completed): \")\n",
    "    due_date = input(\"Enter due date (YYYY-MM-DD): \")\n",
    "    tasks.append({'ID': task_id, 'Title': title, 'Description': description, 'Status': status, 'Due Date': due_date})\n",
    "    save_tasks(tasks)\n",
    "    print(\"Task added successfully!\")\n",
    "\n",
    "def update_task():\n",
    "    tasks = load_tasks()\n",
    "    task_id = input(\"Enter the ID of the task to update: \")\n",
    "    found = False\n",
    "    for task in tasks:\n",
    "        if task['ID'] == task_id:\n",
    "            task['Title'] = input(\"Enter new title: \") or task['Title']\n",
    "            task['Description'] = input(\"Enter new description: \") or task['Description']\n",
    "            task['Status'] = input(\"Enter new status: \") or task['Status']\n",
    "            task['Due Date'] = input(\"Enter new due date: \") or task['Due Date']\n",
    "            found = True\n",
    "            break\n",
    "    if found:\n",
    "        save_tasks(tasks)\n",
    "        print(\"Task updated successfully!\")\n",
    "    else:\n",
    "        print(\"Task ID not found.\")\n",
    "\n",
    "def view_tasks():\n",
    "    tasks = load_tasks()\n",
    "    if not tasks:\n",
    "        print(\"No tasks available.\")\n",
    "        return\n",
    "    for task in tasks:\n",
    "        print(task)\n",
    "\n",
    "def delete_task():\n",
    "    tasks = load_tasks()\n",
    "    task_id = input(\"Enter the ID of the task to delete: \")\n",
    "    new_tasks = [task for task in tasks if task['ID'] != task_id]\n",
    "    if len(new_tasks) == len(tasks):\n",
    "        print(\"Task ID not found.\")\n",
    "    else:\n",
    "        save_tasks(new_tasks)\n",
    "        print(\"Task deleted successfully!\")\n",
    "\n",
    "def sort_tasks():\n",
    "    tasks = load_tasks()\n",
    "    print(\"Sort by: 1. Title 2. Due Date 3. Status\")\n",
    "    choice = input(\"Enter your choice: \")\n",
    "    if choice == '1':\n",
    "        tasks.sort(key=lambda x: x['Title'])\n",
    "    elif choice == '2':\n",
    "        tasks.sort(key=lambda x: x['Due Date'])\n",
    "    elif choice == '3':\n",
    "        tasks.sort(key=lambda x: x['Status'])\n",
    "    else:\n",
    "        print(\"Invalid choice.\")\n",
    "        return\n",
    "    for task in tasks:\n",
    "        print(task)\n",
    "\n",
    "def filter_tasks():\n",
    "    tasks = load_tasks()\n",
    "    status_filter = input(\"Enter status to filter by (Pending/Completed): \")\n",
    "    filtered = [task for task in tasks if task['Status'].lower() == status_filter.lower()]\n",
    "    if not filtered:\n",
    "        print(\"No tasks found with this status.\")\n",
    "    else:\n",
    "        for task in filtered:\n",
    "            print(task)\n",
    "\n",
    "def menu():\n",
    "    while True:\n",
    "        print(\"\\n--- Task Management System ---\")\n",
    "        print(\"1. Add Task\")\n",
    "        print(\"2. Update Task\")\n",
    "        print(\"3. View Tasks\")\n",
    "        print(\"4. Delete Task\")\n",
    "        print(\"5. Sort Tasks\")\n",
    "        print(\"6. Filter Tasks\")\n",
    "        print(\"7. Exit\")\n",
    "        choice = input(\"Enter your choice: \")\n",
    "            \n",
    "\n",
    "        try:\n",
    "            if choice == '1':\n",
    "                add_task()\n",
    "            elif choice == '2':\n",
    "                update_task()\n",
    "            elif choice == '3':\n",
    "                view_tasks()\n",
    "            elif choice == '4':\n",
    "                delete_task()\n",
    "            elif choice == '5':\n",
    "                sort_tasks()\n",
    "            elif choice == '6':\n",
    "                filter_tasks()\n",
    "            elif choice == '7':\n",
    "                print(\"Goodbye!\")\n",
    "                break\n",
    "            else:\n",
    "                print(\"Invalid choice. Please try again.\")\n",
    "        except Exception as e:\n",
    "            print(f\"An error occurred: {e}\")\n",
    "\n",
    "if __name__ == '__main__':\n",
    "    menu()\n"
   ]
  },
  {
   "cell_type": "code",
   "execution_count": 3,
   "id": "f22ce602-9d17-4fa0-bd57-c9639d0804b0",
   "metadata": {},
   "outputs": [
    {
     "name": "stdout",
     "output_type": "stream",
     "text": [
      "['ID', 'Title', 'Description', 'Status', 'Due Date']\n",
      "['1', 'cloth', 'good quilty', 'current', '20/4/2024']\n",
      "['2', 'dal', 'puar quilty', 'update', '17/5/2025']\n",
      "['3', 'toy', ' meny defrent toy', '20% dicount', '8-Jul']\n"
     ]
    }
   ],
   "source": [
    "import csv\n",
    "\n",
    "filename = 'tasks.csv'\n",
    "\n",
    "with open(filename, 'r') as csvfile:\n",
    "    reader = csv.reader(csvfile)\n",
    "    for row in reader:\n",
    "        print(row)\n"
   ]
  },
  {
   "cell_type": "code",
   "execution_count": 5,
   "id": "d6765976-96f7-49b4-88f7-ae5297c13ef3",
   "metadata": {},
   "outputs": [
    {
     "ename": "PermissionError",
     "evalue": "[Errno 13] Permission denied: 'tasks.csv'",
     "output_type": "error",
     "traceback": [
      "\u001b[1;31m---------------------------------------------------------------------------\u001b[0m",
      "\u001b[1;31mPermissionError\u001b[0m                           Traceback (most recent call last)",
      "Cell \u001b[1;32mIn[5], line 5\u001b[0m\n\u001b[0;32m      1\u001b[0m \u001b[38;5;28;01mimport\u001b[39;00m \u001b[38;5;21;01mcsv\u001b[39;00m\n\u001b[0;32m      3\u001b[0m filename \u001b[38;5;241m=\u001b[39m \u001b[38;5;124m'\u001b[39m\u001b[38;5;124mtasks.csv\u001b[39m\u001b[38;5;124m'\u001b[39m\n\u001b[1;32m----> 5\u001b[0m \u001b[38;5;28;01mwith\u001b[39;00m \u001b[38;5;28mopen\u001b[39m(filename, \u001b[38;5;124m'\u001b[39m\u001b[38;5;124mw\u001b[39m\u001b[38;5;124m'\u001b[39m, newline\u001b[38;5;241m=\u001b[39m\u001b[38;5;124m'\u001b[39m\u001b[38;5;124m'\u001b[39m) \u001b[38;5;28;01mas\u001b[39;00m csvfile:\n\u001b[0;32m      6\u001b[0m     csv_writer \u001b[38;5;241m=\u001b[39m csv\u001b[38;5;241m.\u001b[39mwriter(csvfile)\n\u001b[0;32m      8\u001b[0m     csv_writer\u001b[38;5;241m.\u001b[39mwriterow([\u001b[38;5;124m'\u001b[39m\u001b[38;5;124m1\u001b[39m\u001b[38;5;124m'\u001b[39m, \u001b[38;5;124m'\u001b[39m\u001b[38;5;124mcloth\u001b[39m\u001b[38;5;124m'\u001b[39m, \u001b[38;5;124m'\u001b[39m\u001b[38;5;124mgood quilty\u001b[39m\u001b[38;5;124m'\u001b[39m, \u001b[38;5;124m'\u001b[39m\u001b[38;5;124mcurrent\u001b[39m\u001b[38;5;124m'\u001b[39m, \u001b[38;5;124m'\u001b[39m\u001b[38;5;124m4/20/2024\u001b[39m\u001b[38;5;124m'\u001b[39m])\n",
      "File \u001b[1;32mD:\\jupiter\\Lib\\site-packages\\IPython\\core\\interactiveshell.py:324\u001b[0m, in \u001b[0;36m_modified_open\u001b[1;34m(file, *args, **kwargs)\u001b[0m\n\u001b[0;32m    317\u001b[0m \u001b[38;5;28;01mif\u001b[39;00m file \u001b[38;5;129;01min\u001b[39;00m {\u001b[38;5;241m0\u001b[39m, \u001b[38;5;241m1\u001b[39m, \u001b[38;5;241m2\u001b[39m}:\n\u001b[0;32m    318\u001b[0m     \u001b[38;5;28;01mraise\u001b[39;00m \u001b[38;5;167;01mValueError\u001b[39;00m(\n\u001b[0;32m    319\u001b[0m         \u001b[38;5;124mf\u001b[39m\u001b[38;5;124m\"\u001b[39m\u001b[38;5;124mIPython won\u001b[39m\u001b[38;5;124m'\u001b[39m\u001b[38;5;124mt let you open fd=\u001b[39m\u001b[38;5;132;01m{\u001b[39;00mfile\u001b[38;5;132;01m}\u001b[39;00m\u001b[38;5;124m by default \u001b[39m\u001b[38;5;124m\"\u001b[39m\n\u001b[0;32m    320\u001b[0m         \u001b[38;5;124m\"\u001b[39m\u001b[38;5;124mas it is likely to crash IPython. If you know what you are doing, \u001b[39m\u001b[38;5;124m\"\u001b[39m\n\u001b[0;32m    321\u001b[0m         \u001b[38;5;124m\"\u001b[39m\u001b[38;5;124myou can use builtins\u001b[39m\u001b[38;5;124m'\u001b[39m\u001b[38;5;124m open.\u001b[39m\u001b[38;5;124m\"\u001b[39m\n\u001b[0;32m    322\u001b[0m     )\n\u001b[1;32m--> 324\u001b[0m \u001b[38;5;28;01mreturn\u001b[39;00m io_open(file, \u001b[38;5;241m*\u001b[39margs, \u001b[38;5;241m*\u001b[39m\u001b[38;5;241m*\u001b[39mkwargs)\n",
      "\u001b[1;31mPermissionError\u001b[0m: [Errno 13] Permission denied: 'tasks.csv'"
     ]
    }
   ],
   "source": [
    "import csv\n",
    "\n",
    "filename = 'tasks.csv'\n",
    "\n",
    "with open(filename, 'w', newline='') as csvfile:\n",
    "    csv_writer = csv.writer(csvfile)\n",
    "    \n",
    "    csv_writer.writerow(['1', 'cloth', 'good quilty', 'current', '4/20/2024'])\n",
    "\n",
    "\n",
    "    csv_writer.writerow(['2', 'dal', 'puar quilty', 'update', '5/14/2025'])\n",
    "    csv_writer.writerow(['2', 'dal', 'puar quilty', 'update', '5/14/2025'])\n",
    "    csv_writer.writerow(['2', 'dal', 'puar quilty', 'update', '5/14/2025'])\n",
    "\n",
    "    print(\"CSV file created and data written!\")\n",
    "\n"
   ]
  },
  {
   "cell_type": "code",
   "execution_count": null,
   "id": "cf89d80a-1295-478a-942a-d3cea60cbf6a",
   "metadata": {},
   "outputs": [],
   "source": []
  }
 ],
 "metadata": {
  "kernelspec": {
   "display_name": "Python 3 (ipykernel)",
   "language": "python",
   "name": "python3"
  },
  "language_info": {
   "codemirror_mode": {
    "name": "ipython",
    "version": 3
   },
   "file_extension": ".py",
   "mimetype": "text/x-python",
   "name": "python",
   "nbconvert_exporter": "python",
   "pygments_lexer": "ipython3",
   "version": "3.12.4"
  }
 },
 "nbformat": 4,
 "nbformat_minor": 5
}
